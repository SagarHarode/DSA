{
 "cells": [
  {
   "cell_type": "markdown",
   "id": "9542ee69-647c-428d-b429-5e544cde8adc",
   "metadata": {},
   "source": [
    "## Kth smallest element \n",
    "\n",
    "Given an array of n-elements and an integer k, find the kth smallest element present in an array.\n",
    "\n",
    "For example:\n",
    "\n",
    "arr = [40, 25, 68, 79, 52, 66, 89, 97]\n",
    "\n",
    "k = 2\n",
    "\n",
    "result = 40\n"
   ]
  },
  {
   "cell_type": "code",
   "execution_count": 14,
   "id": "e0fff38d-ef4f-4690-bdbf-467a40129e76",
   "metadata": {},
   "outputs": [
    {
     "name": "stdout",
     "output_type": "stream",
     "text": [
      "40\n"
     ]
    }
   ],
   "source": [
    "import random\n",
    "\n",
    "## Method definition of randomizedPartition\n",
    "def randomizedPartition(arr, p, q):\n",
    "  ## random pivot index\n",
    "  randomPivotIndex = random.randrange(p,q)\n",
    "  ## swap the random index with the first index \n",
    "  arr[p], arr[randomPivotIndex] = arr[randomPivotIndex], arr[p]\n",
    "  return partition(arr, p, q)\n",
    "\n",
    "## Method definition of partition\n",
    "def partition(arr, p, q):\n",
    "  pivot = arr[p]\n",
    "  i = p\n",
    "  for j in range(i+1, q+1):\n",
    "    if arr[j] <= pivot:\n",
    "      i += 1\n",
    "      ## swap between the values of arr[i] and arr[j]\n",
    "      arr[i], arr[j] = arr[j], arr[i]\n",
    "  ## final swap between the value of arr[i] and arr[p]\n",
    "  arr[i], arr[p] = arr[p], arr[i]\n",
    "  return i\n",
    "\n",
    "## Method definition of quickSort\n",
    "def quickSort(arr, p, q):\n",
    "  if p < q:\n",
    "    ## Divide and Conquer Approach\n",
    "    ## 1. Divide\n",
    "    ## function calling for the partition method\n",
    "    mid = randomizedPartition(arr, p, q)\n",
    "    ## recursive function call for the left subtree\n",
    "    quickSort(arr, p, mid-1)\n",
    "    ## recursive function call for the right subtree\n",
    "    quickSort(arr, mid+1, q)\n",
    "    #returning value of requested K value as index is always -1 from desired value\n",
    "  return arr[K-1]\n",
    "\n",
    "## Driver code\n",
    "arr = [40, 25, 68, 79, 52, 66, 89, 97]\n",
    "p = 0\n",
    "q = len(arr) - 1\n",
    "K=2\n",
    "## function calling\n",
    "result = quickSort(arr, p, q)\n",
    "print(result)"
   ]
  },
  {
   "cell_type": "markdown",
   "id": "df0f6452-d28b-48b2-a004-2e0e5bcc091a",
   "metadata": {},
   "source": [
    "## Kth Largest Element in an array \n",
    "\n",
    "Given an integer array nums and an integer k, return the kth largest element present in an array.\n",
    "\n",
    "For example:\n",
    "\n",
    "arr = [40, 25, 68, 79, 52, 66, 89, 97]\n",
    "\n",
    "k = 2\n",
    "\n",
    "result = 89\n"
   ]
  },
  {
   "cell_type": "code",
   "execution_count": 15,
   "id": "0c3cdc02-c56c-43c1-baf6-9a3fa50cc6f2",
   "metadata": {},
   "outputs": [
    {
     "name": "stdout",
     "output_type": "stream",
     "text": [
      "89\n"
     ]
    }
   ],
   "source": [
    "import random\n",
    "\n",
    "## Method definition of randomizedPartition\n",
    "def randomizedPartition(arr, p, q):\n",
    "  ## random pivot index\n",
    "  randomPivotIndex = random.randrange(p,q)\n",
    "  ## swap the random index with the first index \n",
    "  arr[p], arr[randomPivotIndex] = arr[randomPivotIndex], arr[p]\n",
    "  return partition(arr, p, q)\n",
    "\n",
    "## Method definition of partition\n",
    "def partition(arr, p, q):\n",
    "  pivot = arr[p]\n",
    "  i = p\n",
    "  for j in range(i+1, q+1):\n",
    "    if arr[j] <= pivot:\n",
    "      i += 1\n",
    "      ## swap between the values of arr[i] and arr[j]\n",
    "      arr[i], arr[j] = arr[j], arr[i]\n",
    "  ## final swap between the value of arr[i] and arr[p]\n",
    "  arr[i], arr[p] = arr[p], arr[i]\n",
    "  return i\n",
    "\n",
    "## Method definition of quickSort\n",
    "def quickSort(arr, p, q):\n",
    "  if p < q:\n",
    "    ## Divide and Conquer Approach\n",
    "    ## 1. Divide\n",
    "    ## function calling for the partition method\n",
    "    mid = randomizedPartition(arr, p, q)\n",
    "    ## recursive function call for the left subtree\n",
    "    quickSort(arr, p, mid-1)\n",
    "    ## recursive function call for the right subtree\n",
    "    quickSort(arr, mid+1, q)\n",
    "    #returning value of requested K value \n",
    "  return arr[-K]\n",
    "\n",
    "## Driver code\n",
    "arr = [40, 25, 68, 79, 52, 66, 89, 97]\n",
    "p = 0\n",
    "q = len(arr) - 1\n",
    "K=2\n",
    "## function calling\n",
    "result = quickSort(arr, p, q)\n",
    "print(result)"
   ]
  },
  {
   "cell_type": "markdown",
   "id": "e49bdc31-8077-493b-ab12-33fc84f32a51",
   "metadata": {},
   "source": [
    "## Find  peak element\n",
    "\n",
    "The peak element is the element that is strictly greater than its neighbors.\n",
    "\n",
    "If an array contains multiple peak elements, return the index of any of the peak elements.\n",
    "\n",
    "For example: [1,2,3,1]\n",
    "\n",
    "Output: 2\n"
   ]
  },
  {
   "cell_type": "code",
   "execution_count": 16,
   "id": "14d7c658-9ea3-4659-a657-c8dba0356027",
   "metadata": {},
   "outputs": [
    {
     "name": "stdout",
     "output_type": "stream",
     "text": [
      "Index of a peak point is 2\n"
     ]
    }
   ],
   "source": [
    "def findPeak(arr, n):\n",
    "\n",
    "\tl = 0\n",
    "\tr = n-1\n",
    "\t\n",
    "\twhile(l <= r):\n",
    "\n",
    "      # finding mid by binary right shifting.\n",
    "\t\tmid = l+(r-l)//2\n",
    "\n",
    "          #if mid is the peak\n",
    "\t\tif((mid == 0 or arr[mid - 1] <= arr[mid]) and (mid == n - 1 or arr[mid + 1] <= arr[mid])):\n",
    "\t\t\tbreak\n",
    "\n",
    "      \n",
    "\t\tif(mid > 0 and arr[mid - 1] > arr[mid]):\n",
    "\t\t\tr = mid - 1\n",
    "\n",
    "\t\telse:\n",
    "\t\t\tl = mid + 1\n",
    "\n",
    "\treturn mid\n",
    "\n",
    "\n",
    "# Driver Code\n",
    "arr = [1,2,3,1]\n",
    "n = len(arr)\n",
    "print(f\"Index of a peak point is {findPeak(arr, n)}\")\n",
    "\n",
    "#Tme complexity- O(log\n"
   ]
  },
  {
   "cell_type": "markdown",
   "id": "29039931-0b9a-4dc2-acfc-45c21c8d7e5c",
   "metadata": {},
   "source": [
    "## Majority Element  \n",
    "\n",
    "Given array nums of size n, return the majority element present in the array.\n",
    "\n",
    "Assume that the majority element always exists in an array.\n",
    "\n",
    "For example:\n",
    "    \n",
    "Nums = [2, 2, 1, 1, 1, 2, ,2]\n",
    "\n",
    "Output: 2\n"
   ]
  },
  {
   "cell_type": "code",
   "execution_count": 17,
   "id": "9879f5ad-1b30-4ee7-b72c-b27c3288536f",
   "metadata": {},
   "outputs": [
    {
     "name": "stdout",
     "output_type": "stream",
     "text": [
      "Majority found :- 2\n"
     ]
    }
   ],
   "source": [
    "\n",
    "def Majority_element(arr, size):\n",
    "\tk = {}\n",
    "\tfor i in range(size):\n",
    "\t\tif arr[i] in k:\n",
    "\t\t\tk[arr[i]] += 1\n",
    "\t\telse:\n",
    "\t\t\tk[arr[i]] = 1\n",
    "\tcount = 0\n",
    "\tfor key in k:\n",
    "\t\tif k[key] > size / 2:\n",
    "\t\t\tcount = 1\n",
    "\t\t\tprint(\"Majority found :-\",key)\n",
    "\t\t\tbreak\n",
    "\tif(count == 0):\n",
    "\t\tprint(\"No Majority element\")\n",
    "\n",
    "# Driver code\n",
    "arr = [2, 2, 1, 1, 1, 2, 2]\n",
    "n = len(arr)\n",
    "Majority_element(arr, n)\n",
    "\n",
    "#Time complexity -O(n)"
   ]
  },
  {
   "cell_type": "code",
   "execution_count": null,
   "id": "68706212-c744-4f85-80bf-0be689720e4c",
   "metadata": {},
   "outputs": [],
   "source": []
  }
 ],
 "metadata": {
  "kernelspec": {
   "display_name": "Python 3 (ipykernel)",
   "language": "python",
   "name": "python3"
  },
  "language_info": {
   "codemirror_mode": {
    "name": "ipython",
    "version": 3
   },
   "file_extension": ".py",
   "mimetype": "text/x-python",
   "name": "python",
   "nbconvert_exporter": "python",
   "pygments_lexer": "ipython3",
   "version": "3.9.12"
  }
 },
 "nbformat": 4,
 "nbformat_minor": 5
}
