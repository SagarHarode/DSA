{
 "cells": [
  {
   "cell_type": "markdown",
   "id": "7dc73484-f6e3-4882-aeca-1eca1353d621",
   "metadata": {},
   "source": [
    "1.\n",
    "Given an integer array nums of length n and an integer target, find three integers in nums\n",
    "such that the sum is closest to the target.\n",
    "You need to return the sum of three integers.\n",
    "\n",
    "For example:arr = [-1, 2, 1, -4], target = 1\n",
    "Output: 2\n",
    "\n",
    "Explanation: [-1+2+1] = 2 \n",
    "(The sum that is closest to the target is 2)"
   ]
  },
  {
   "cell_type": "code",
   "execution_count": 33,
   "id": "f16f71d7-3cef-4e29-a1d0-2f4fdc76c413",
   "metadata": {},
   "outputs": [
    {
     "name": "stdout",
     "output_type": "stream",
     "text": [
      "2\n"
     ]
    }
   ],
   "source": [
    "def Closest(arr, target) :\n",
    "\n",
    "    \n",
    "     \n",
    "    #Assuming the difference between elements in list are not larger then target*1000000 \n",
    "    Closest_Sum = abs(target*1000000);\n",
    "    arr.sort();\n",
    " \n",
    "    # arr[i] will move till len(arr)-2\n",
    "    #because arr[right] already exists on len(arr) - 1\n",
    "    for i in range(len(arr)-2) :\n",
    " \n",
    "        left = i + 1\n",
    "        right = len(arr) - 1\n",
    "       \n",
    "        while  left < right :\n",
    " \n",
    "            # If the sum is more closer than\n",
    "            # the current closest sum\n",
    "            if (abs(x - (arr[i] + arr[left] + arr[right])) < abs(x - closestSum)) :\n",
    "                Closest_Sum = (arr[i] + arr[left] + arr[right]);\n",
    "            \n",
    "            elif ((arr[i] + arr[left] + arr[right]) > x) :\n",
    "                right -= 1;\n",
    "                \n",
    "            else :\n",
    "                left += 1;\n",
    " \n",
    "    return Closest_Sum;\n",
    " \n",
    " \n",
    "# Driver code\n",
    "arr = [ -1, 2, 1, -4 ];\n",
    "target= 1;\n",
    "print(Closest(arr,target));"
   ]
  },
  {
   "cell_type": "markdown",
   "id": "e4821c16-f80a-40c2-801d-251f02b17431",
   "metadata": {},
   "source": [
    "2. Given three points, check whether they lie on a straight (collinear) or not. \n",
    "For example:\n",
    "\n",
    "Input- [(1,1),(1,6),(0,9)]\n",
    "Output- No\n",
    "\n",
    "Input- [(1,1),(1,4),(1,5)]\n",
    "Output- Yes"
   ]
  },
  {
   "cell_type": "code",
   "execution_count": 6,
   "id": "77fd6143-2efe-40b7-bc24-793a898a717a",
   "metadata": {},
   "outputs": [
    {
     "name": "stdout",
     "output_type": "stream",
     "text": [
      "Yes\n"
     ]
    }
   ],
   "source": [
    "def collinear_points(x1, y1, x2, y2, x3, y3):\n",
    "    \n",
    "    if ((y3 - y2)*(x2 - x1) == (y2 - y1)*(x3 - x2)):\n",
    "        print (\"Yes\")\n",
    "    else:\n",
    "        print (\"No\")\n",
    "  \n",
    "# Driver Code\n",
    "x1, x2, x3, y1, y2, y3 = 1, 1, 1, 6,0,9\n",
    "collinear_points(x1, y1, x2, y2, x3, y3);\n",
    "\n",
    "\n",
    "\n",
    "#Time Complexiity - O(1)\n",
    "# As the above code has no loop, only an if condition, so the time complexity will be constant i.e O(1)\n"
   ]
  },
  {
   "cell_type": "markdown",
   "id": "ab3c4634-d706-4ac1-bf33-d15ae3d97438",
   "metadata": {},
   "source": [
    "4. An almost sorted array is given to us and the task is to sort that array completely.Then, which sorting algorithm would you prefer and why?\n"
   ]
  },
  {
   "cell_type": "markdown",
   "id": "b6f798a7-d4fa-46cc-8f58-86bac25e6650",
   "metadata": {},
   "source": [
    "## Insertion Sort-\n",
    "It is not just preferable on almost sorted array but also small data sets.\n",
    "\n",
    "\n",
    "\n",
    "## Implementation of Insertion Sort\n",
    "def insertion_sort(arr):\n",
    "    for i in range(1, len(arr)):\n",
    "        j = i-1\n",
    "        key = arr[i]\n",
    "        \n",
    "        while j>=0 and arr[j] > key:\n",
    "            arr[j+1] = arr[j]\n",
    "            j -= 1\n",
    "        arr[j+1] = key\n",
    "    return arr\n",
    "\n",
    "\n",
    "**Driver code\n",
    "arr = [75, 90, 100, 95,105]\n",
    "result = insertion_sort(arr)\n",
    "print(\"Sorted array after applying the insertion sort:\", result)\n",
    "\n",
    "\n",
    "When j=2, key=95, the array will be sorted completely.\n",
    "\n",
    "It will have time complexity of O(n).\n",
    "\n",
    "## Best Case:\n",
    "\n",
    "Selection sort: The best-case complexity is O(N2) as to find the minimum element at every iteration, we will have to traverse the entire unsorted array.\n",
    "\n",
    "Bubble sort: The best-case complexity is O(N). It happens when we have an already sorted array, as in that case, we will stop the procedure after a single pass.\n",
    "\n",
    "Insertion sort: The best-case complexity is O(N). It occurs when we have a sorted array; as in that case, each element has already been placed at its correct position, and no swap operation will be required.\n",
    "\n",
    "## Why Insertion sort is better then Bubble sort, even in same time complexity?\n",
    "\n",
    "Insertion sort: Compares one element vs a sorted sub array\n",
    "\n",
    "Bubble Sort: Compares and swaps neighbors\n",
    "\n",
    "The bubble sort performs poorly compared to the insertion sort. Due to the high number of swaps, it’s expected to generate twice as many write operations and twice as many cache misses. Therefore, we don’t prefer this algorithm for an ordinary sorting job.\n",
    "\n"
   ]
  },
  {
   "cell_type": "code",
   "execution_count": null,
   "id": "5639b894-f046-49d3-a99b-c24ef2cd89cd",
   "metadata": {},
   "outputs": [],
   "source": []
  }
 ],
 "metadata": {
  "kernelspec": {
   "display_name": "Python 3 (ipykernel)",
   "language": "python",
   "name": "python3"
  },
  "language_info": {
   "codemirror_mode": {
    "name": "ipython",
    "version": 3
   },
   "file_extension": ".py",
   "mimetype": "text/x-python",
   "name": "python",
   "nbconvert_exporter": "python",
   "pygments_lexer": "ipython3",
   "version": "3.9.12"
  }
 },
 "nbformat": 4,
 "nbformat_minor": 5
}
